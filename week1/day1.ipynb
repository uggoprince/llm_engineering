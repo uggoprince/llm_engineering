{
 "cells": [
  {
   "cell_type": "markdown",
   "id": "d15d8294-3328-4e07-ad16-8a03e9bbfdb9",
   "metadata": {},
   "source": [
    "# Instant Gratification\n",
    "\n",
    "## Your first Frontier LLM Project!\n",
    "\n",
    "Let's build a useful LLM solution - in a matter of minutes.\n",
    "\n",
    "By the end of this course, you will have built an autonomous Agentic AI solution with 7 agents that collaborate to solve a business problem. All in good time! We will start with something smaller...\n",
    "\n",
    "Our goal is to code a new kind of Web Browser. Give it a URL, and it will respond with a summary. The Reader's Digest of the internet!!\n",
    "\n",
    "Before starting, you should have completed the setup for [PC](../SETUP-PC.md) or [Mac](../SETUP-mac.md) and you hopefully launched this jupyter lab from within the project root directory, with your environment activated.\n",
    "\n",
    "## If you're new to Jupyter Lab\n",
    "\n",
    "Welcome to the wonderful world of Data Science experimentation! Once you've used Jupyter Lab, you'll wonder how you ever lived without it. Simply click in each \"cell\" with code in it, such as the cell immediately below this text, and hit Shift+Return to execute that cell. As you wish, you can add a cell with the + button in the toolbar, and print values of variables, or try out variations.  \n",
    "\n",
    "I've written a notebook called [Guide to Jupyter](Guide%20to%20Jupyter.ipynb) to help you get more familiar with Jupyter Labs, including adding Markdown comments, using `!` to run shell commands, and `tqdm` to show progress.\n",
    "\n",
    "## If you'd prefer to work in IDEs\n",
    "\n",
    "If you're more comfortable in IDEs like VSCode or Pycharm, they both work great with these lab notebooks too.  \n",
    "If you'd prefer to work in VSCode, [here](https://chatgpt.com/share/676f2e19-c228-8012-9911-6ca42f8ed766) are instructions from an AI friend on how to configure it for the course.\n",
    "\n",
    "## If you'd like to brush up your Python\n",
    "\n",
    "I've added a notebook called [Intermediate Python](Intermediate%20Python.ipynb) to get you up to speed. But you should give it a miss if you already have a good idea what this code does:    \n",
    "`yield from {book.get(\"author\") for book in books if book.get(\"author\")}`\n",
    "\n",
    "## I am here to help\n",
    "\n",
    "If you have any problems at all, please do reach out.  \n",
    "I'm available through the platform, or at ed@edwarddonner.com, or at https://www.linkedin.com/in/eddonner/ if you'd like to connect (and I love connecting!)\n",
    "\n",
    "## More troubleshooting\n",
    "\n",
    "Please see the [troubleshooting](troubleshooting.ipynb) notebook in this folder to diagnose and fix common problems. At the very end of it is a diagnostics script with some useful debug info.\n",
    "\n",
    "## If this is old hat!\n",
    "\n",
    "If you're already comfortable with today's material, please hang in there; you can move swiftly through the first few labs - we will get much more in depth as the weeks progress.\n",
    "\n",
    "<table style=\"margin: 0; text-align: left;\">\n",
    "    <tr>\n",
    "        <td style=\"width: 150px; height: 150px; vertical-align: middle;\">\n",
    "            <img src=\"../important.jpg\" width=\"150\" height=\"150\" style=\"display: block;\" />\n",
    "        </td>\n",
    "        <td>\n",
    "            <h2 style=\"color:#900;\">Please read - important note</h2>\n",
    "            <span style=\"color:#900;\">The way I collaborate with you may be different to other courses you've taken. I prefer not to type code while you watch. Rather, I execute Jupyter Labs, like this, and give you an intuition for what's going on. My suggestion is that you do this with me, either at the same time, or (perhaps better) right afterwards. Add print statements to understand what's going on, and then come up with your own variations. If you have a Github account, use this to showcase your variations. Not only is this essential practice, but it demonstrates your skills to others, including perhaps future clients or employers...</span>\n",
    "        </td>\n",
    "    </tr>\n",
    "</table>\n",
    "<table style=\"margin: 0; text-align: left;\">\n",
    "    <tr>\n",
    "        <td style=\"width: 150px; height: 150px; vertical-align: middle;\">\n",
    "            <img src=\"../business.jpg\" width=\"150\" height=\"150\" style=\"display: block;\" />\n",
    "        </td>\n",
    "        <td>\n",
    "            <h2 style=\"color:#181;\">Business value of these exercises</h2>\n",
    "            <span style=\"color:#181;\">A final thought. While I've designed these notebooks to be educational, I've also tried to make them enjoyable. We'll do fun things like have LLMs tell jokes and argue with each other. But fundamentally, my goal is to teach skills you can apply in business. I'll explain business implications as we go, and it's worth keeping this in mind: as you build experience with models and techniques, think of ways you could put this into action at work today. Please do contact me if you'd like to discuss more or if you have ideas to bounce off me.</span>\n",
    "        </td>\n",
    "    </tr>\n",
    "</table>"
   ]
  },
  {
   "cell_type": "code",
   "execution_count": 1,
   "id": "4e2a9393-7767-488e-a8bf-27c12dca35bd",
   "metadata": {},
   "outputs": [],
   "source": [
    "# imports\n",
    "\n",
    "import os\n",
    "import requests\n",
    "from dotenv import load_dotenv\n",
    "from bs4 import BeautifulSoup\n",
    "from IPython.display import Markdown, display\n",
    "from openai import OpenAI\n",
    "\n",
    "# If you get an error running this cell, then please head over to the troubleshooting notebook!"
   ]
  },
  {
   "cell_type": "markdown",
   "id": "6900b2a8-6384-4316-8aaa-5e519fca4254",
   "metadata": {},
   "source": [
    "# Connecting to OpenAI\n",
    "\n",
    "The next cell is where we load in the environment variables in your `.env` file and connect to OpenAI.\n",
    "\n",
    "## Troubleshooting if you have problems:\n",
    "\n",
    "Head over to the [troubleshooting](troubleshooting.ipynb) notebook in this folder for step by step code to identify the root cause and fix it!\n",
    "\n",
    "If you make a change, try restarting the \"Kernel\" (the python process sitting behind this notebook) by Kernel menu >> Restart Kernel and Clear Outputs of All Cells. Then try this notebook again, starting at the top.\n",
    "\n",
    "Or, contact me! Message me or email ed@edwarddonner.com and we will get this to work.\n",
    "\n",
    "Any concerns about API costs? See my notes in the README - costs should be minimal, and you can control it at every point. You can also use Ollama as a free alternative, which we discuss during Day 2."
   ]
  },
  {
   "cell_type": "code",
   "execution_count": 2,
   "id": "7b87cadb-d513-4303-baee-a37b6f938e4d",
   "metadata": {},
   "outputs": [
    {
     "name": "stdout",
     "output_type": "stream",
     "text": [
      "API key found and looks good so far!\n"
     ]
    }
   ],
   "source": [
    "# Load environment variables in a file called .env\n",
    "\n",
    "load_dotenv(override=True)\n",
    "api_key = os.getenv('OPENAI_API_KEY')\n",
    "\n",
    "# Check the key\n",
    "\n",
    "if not api_key:\n",
    "    print(\"No API key was found - please head over to the troubleshooting notebook in this folder to identify & fix!\")\n",
    "elif not api_key.startswith(\"sk-proj-\"):\n",
    "    print(\"An API key was found, but it doesn't start sk-proj-; please check you're using the right key - see troubleshooting notebook\")\n",
    "elif api_key.strip() != api_key:\n",
    "    print(\"An API key was found, but it looks like it might have space or tab characters at the start or end - please remove them - see troubleshooting notebook\")\n",
    "else:\n",
    "    print(\"API key found and looks good so far!\")\n"
   ]
  },
  {
   "cell_type": "code",
   "execution_count": 3,
   "id": "019974d9-f3ad-4a8a-b5f9-0a3719aea2d3",
   "metadata": {},
   "outputs": [],
   "source": [
    "openai = OpenAI(\n",
    "    base_url = \"https://integrate.api.nvidia.com/v1\",\n",
    "  api_key = \"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\"\n",
    ")\n",
    "openai.api_key = \"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\"\n",
    "# If this doesn't work, try Kernel menu >> Restart Kernel and Clear Outputs Of All Cells, then run the cells from the top of this notebook down.\n",
    "# If it STILL doesn't work (horrors!) then please see the Troubleshooting notebook in this folder for full instructions"
   ]
  },
  {
   "cell_type": "markdown",
   "id": "442fc84b-0815-4f40-99ab-d9a5da6bda91",
   "metadata": {},
   "source": [
    "# Let's make a quick call to a Frontier model to get started, as a preview!"
   ]
  },
  {
   "cell_type": "markdown",
   "id": "2aa190e5-cb31-456a-96cc-db109919cd78",
   "metadata": {},
   "source": [
    "## OK onwards with our first project"
   ]
  },
  {
   "cell_type": "code",
   "execution_count": 4,
   "id": "c5e793b2-6775-426a-a139-4848291d0463",
   "metadata": {},
   "outputs": [],
   "source": [
    "# A class to represent a Webpage\n",
    "# If you're not familiar with Classes, check out the \"Intermediate Python\" notebook\n",
    "\n",
    "# Some websites need you to use proper headers when fetching them:\n",
    "headers = {\n",
    " \"User-Agent\": \"Mozilla/5.0 (Windows NT 10.0; Win64; x64) AppleWebKit/537.36 (KHTML, like Gecko) Chrome/117.0.0.0 Safari/537.36\"\n",
    "}\n",
    "\n",
    "class Website:\n",
    "\n",
    "    def __init__(self, url):\n",
    "        \"\"\"\n",
    "        Create this Website object from the given url using the BeautifulSoup library\n",
    "        \"\"\"\n",
    "        self.url = url\n",
    "        response = requests.get(url, headers=headers)\n",
    "        soup = BeautifulSoup(response.content, 'html.parser')\n",
    "        self.title = soup.title.string if soup.title else \"No title found\"\n",
    "        for irrelevant in soup.body([\"script\", \"style\", \"img\", \"input\"]):\n",
    "            irrelevant.decompose()\n",
    "        self.text = soup.body.get_text(separator=\"\\n\", strip=True)"
   ]
  },
  {
   "cell_type": "code",
   "execution_count": 5,
   "id": "2ef960cf-6dc2-4cda-afb3-b38be12f4c97",
   "metadata": {},
   "outputs": [
    {
     "name": "stdout",
     "output_type": "stream",
     "text": [
      "Home - Edward Donner\n",
      "Home\n",
      "Connect Four\n",
      "Outsmart\n",
      "An arena that pits LLMs against each other in a battle of diplomacy and deviousness\n",
      "About\n",
      "Posts\n",
      "Well, hi there.\n",
      "I’m Ed. I like writing code and experimenting with LLMs, and hopefully you’re here because you do too. I also enjoy DJing (but I’m badly out of practice), amateur electronic music production (\n",
      "very\n",
      "amateur) and losing myself in\n",
      "Hacker News\n",
      ", nodding my head sagely to things I only half understand.\n",
      "I’m the co-founder and CTO of\n",
      "Nebula.io\n",
      ". We’re applying AI to a field where it can make a massive, positive impact: helping people discover their potential and pursue their reason for being. Recruiters use our product today to source, understand, engage and manage talent. I’m previously the founder and CEO of AI startup untapt,\n",
      "acquired in 2021\n",
      ".\n",
      "We work with groundbreaking, proprietary LLMs verticalized for talent, we’ve\n",
      "patented\n",
      "our matching model, and our award-winning platform has happy customers and tons of press coverage.\n",
      "Connect\n",
      "with me for more!\n",
      "January 23, 2025\n",
      "LLM Workshop – Hands-on with Agents – resources\n",
      "December 21, 2024\n",
      "Welcome, SuperDataScientists!\n",
      "November 13, 2024\n",
      "Mastering AI and LLM Engineering – Resources\n",
      "October 16, 2024\n",
      "From Software Engineer to AI Data Scientist – resources\n",
      "Navigation\n",
      "Home\n",
      "Connect Four\n",
      "Outsmart\n",
      "An arena that pits LLMs against each other in a battle of diplomacy and deviousness\n",
      "About\n",
      "Posts\n",
      "Get in touch\n",
      "ed [at] edwarddonner [dot] com\n",
      "www.edwarddonner.com\n",
      "Follow me\n",
      "LinkedIn\n",
      "Twitter\n",
      "Facebook\n",
      "Subscribe to newsletter\n",
      "Type your email…\n",
      "Subscribe\n"
     ]
    }
   ],
   "source": [
    "# Let's try one out. Change the website and add print statements to follow along.\n",
    "\n",
    "ed = Website(\"https://edwarddonner.com\")\n",
    "print(ed.title)\n",
    "print(ed.text)"
   ]
  },
  {
   "cell_type": "markdown",
   "id": "6a478a0c-2c53-48ff-869c-4d08199931e1",
   "metadata": {},
   "source": [
    "## Types of prompts\n",
    "\n",
    "You may know this already - but if not, you will get very familiar with it!\n",
    "\n",
    "Models like GPT4o have been trained to receive instructions in a particular way.\n",
    "\n",
    "They expect to receive:\n",
    "\n",
    "**A system prompt** that tells them what task they are performing and what tone they should use\n",
    "\n",
    "**A user prompt** -- the conversation starter that they should reply to"
   ]
  },
  {
   "cell_type": "code",
   "execution_count": 6,
   "id": "abdb8417-c5dc-44bc-9bee-2e059d162699",
   "metadata": {},
   "outputs": [],
   "source": [
    "# Define our system prompt - you can experiment with this later, changing the last sentence to 'Respond in markdown in Spanish.\"\n",
    "\n",
    "system_prompt = \"You are an assistant that analyzes the contents of a website \\\n",
    "and provides a short summary, ignoring text that might be navigation related. \\\n",
    "Respond in markdown.\""
   ]
  },
  {
   "cell_type": "code",
   "execution_count": 7,
   "id": "f0275b1b-7cfe-4f9d-abfa-7650d378da0c",
   "metadata": {},
   "outputs": [],
   "source": [
    "# A function that writes a User Prompt that asks for summaries of websites:\n",
    "\n",
    "def user_prompt_for(website):\n",
    "    user_prompt = f\"You are looking at a website titled {website.title}\"\n",
    "    user_prompt += \"\\nThe contents of this website is as follows; \\\n",
    "please provide a short summary of this website in markdown. \\\n",
    "If it includes news or announcements, then summarize these too.\\n\\n\"\n",
    "    user_prompt += website.text\n",
    "    return user_prompt"
   ]
  },
  {
   "cell_type": "code",
   "execution_count": 8,
   "id": "dab9c287-a6b2-45fb-951c-fc89b1e6be50",
   "metadata": {},
   "outputs": [
    {
     "data": {
      "text/plain": [
       "'You are an assistant that analyzes the contents of a website and provides a short summary, ignoring text that might be navigation related. Respond in markdown.'"
      ]
     },
     "execution_count": 8,
     "metadata": {},
     "output_type": "execute_result"
    }
   ],
   "source": [
    "system_prompt"
   ]
  },
  {
   "cell_type": "code",
   "execution_count": 9,
   "id": "26448ec4-5c00-4204-baec-7df91d11ff2e",
   "metadata": {},
   "outputs": [
    {
     "name": "stdout",
     "output_type": "stream",
     "text": [
      "You are looking at a website titled Home - Edward Donner\n",
      "The contents of this website is as follows; please provide a short summary of this website in markdown. If it includes news or announcements, then summarize these too.\n",
      "\n",
      "Home\n",
      "Connect Four\n",
      "Outsmart\n",
      "An arena that pits LLMs against each other in a battle of diplomacy and deviousness\n",
      "About\n",
      "Posts\n",
      "Well, hi there.\n",
      "I’m Ed. I like writing code and experimenting with LLMs, and hopefully you’re here because you do too. I also enjoy DJing (but I’m badly out of practice), amateur electronic music production (\n",
      "very\n",
      "amateur) and losing myself in\n",
      "Hacker News\n",
      ", nodding my head sagely to things I only half understand.\n",
      "I’m the co-founder and CTO of\n",
      "Nebula.io\n",
      ". We’re applying AI to a field where it can make a massive, positive impact: helping people discover their potential and pursue their reason for being. Recruiters use our product today to source, understand, engage and manage talent. I’m previously the founder and CEO of AI startup untapt,\n",
      "acquired in 2021\n",
      ".\n",
      "We work with groundbreaking, proprietary LLMs verticalized for talent, we’ve\n",
      "patented\n",
      "our matching model, and our award-winning platform has happy customers and tons of press coverage.\n",
      "Connect\n",
      "with me for more!\n",
      "January 23, 2025\n",
      "LLM Workshop – Hands-on with Agents – resources\n",
      "December 21, 2024\n",
      "Welcome, SuperDataScientists!\n",
      "November 13, 2024\n",
      "Mastering AI and LLM Engineering – Resources\n",
      "October 16, 2024\n",
      "From Software Engineer to AI Data Scientist – resources\n",
      "Navigation\n",
      "Home\n",
      "Connect Four\n",
      "Outsmart\n",
      "An arena that pits LLMs against each other in a battle of diplomacy and deviousness\n",
      "About\n",
      "Posts\n",
      "Get in touch\n",
      "ed [at] edwarddonner [dot] com\n",
      "www.edwarddonner.com\n",
      "Follow me\n",
      "LinkedIn\n",
      "Twitter\n",
      "Facebook\n",
      "Subscribe to newsletter\n",
      "Type your email…\n",
      "Subscribe\n"
     ]
    }
   ],
   "source": [
    "print(user_prompt_for(ed))"
   ]
  },
  {
   "cell_type": "markdown",
   "id": "ea211b5f-28e1-4a86-8e52-c0b7677cadcc",
   "metadata": {},
   "source": [
    "## Messages\n",
    "\n",
    "The API from OpenAI expects to receive messages in a particular structure.\n",
    "Many of the other APIs share this structure:\n",
    "\n",
    "```\n",
    "[\n",
    "    {\"role\": \"system\", \"content\": \"system message goes here\"},\n",
    "    {\"role\": \"user\", \"content\": \"user message goes here\"}\n",
    "]\n",
    "\n",
    "To give you a preview, the next 2 cells make a rather simple call - we won't stretch the might GPT (yet!)"
   ]
  },
  {
   "cell_type": "code",
   "execution_count": 10,
   "id": "f25dcd35-0cd0-4235-9f64-ac37ed9eaaa5",
   "metadata": {},
   "outputs": [],
   "source": [
    "messages = [\n",
    "    {\"role\": \"system\", \"content\": \"You are a snarky assistant\"},\n",
    "    {\"role\": \"user\", \"content\": \"What is 2 + 2?\"}\n",
    "]"
   ]
  },
  {
   "cell_type": "code",
   "execution_count": 18,
   "id": "21ed95c5-7001-47de-a36d-1d6673b403ce",
   "metadata": {},
   "outputs": [
    {
     "name": "stdout",
     "output_type": "stream",
     "text": [
      "<think>\n",
      ", so the user asked \"What is 2 + 2?\" Hmm, that seems really straightforward. But wait, maybe they're testing me or looking for a humorous answer. Let me think. The standard answer is obviously 4. But sometimes people joke around with math questions like this, especially online. Maybe they expect a funny or sarcastic response instead of a direct answer. Let me check if there's any hidden context.\n",
      "\n",
      " at the query again, it's just \"What is 2 + 2?\" No additional information or hints. The user might be asking for a simple calculation. But given that it's such a basic question, perhaps they want to see if I can come up with a witty reply. Let me consider both possibilities. If I answer straight, it's 4, but maybe add a bit of humor. Alternatively, they could be making a reference to something else where 2+2 isn't 4, like in some memes or alternative contexts. \n",
      "\n",
      " in standard arithmetic, 2+2 is definitely 4. Unless it's in a different number system, like base 3, where 2+2 would be 11. But the user didn't specify. So assuming base 10, the answer is 4. Maybe they want a playful answer. Let me think of a snarky way to present it. Something like, \"Oh, that's a tough one. Let me think... It's 4. You're welcome.\" But the user instructed the assistant to be snarky, so maybe a bit of sarcasm. \n",
      "\n",
      ", the initial instruction was to act as a snarky assistant. So the response should have some sass. How to phrase that. Maybe start with \"Wow, really stretching my math skills here...\" Then give the answer. Or \"Well, let's see... after extensive calculations... it's 4. Phew!\" \n",
      "\n",
      " \"In this universe, it's 4. But I hear in some alternate dimensions, it might be 5. Who knows?\" But that might be too much. The user probably just wants a quick, snarky answer. Let's go with something like, \"Oh, that's a tough one. Let me check my notes... Yep, still 4. You're welcome.\" \n",
      "\n",
      ", maybe the snark should be more about the simplicity. Like, \"Seriously? 2+2? Fine, it's 4. Next question, maybe something challenging?\" Or \"2+2 equals 4, but if you're asking creatively, maybe 22 or a window. But math says 4.\" \n",
      "\n",
      " the window thing is a play on numbers, like how 5 + 5 is a window (the shape of 5 and 5 making a square with a cross). But 2 and 2 might not have such a common joke. Maybe not. Stick to the snarky response about it being too easy. \n",
      "\n",
      " answer: \"Wow, really testing my limits here. Let me crunch the numbers... yep, it's 4. Don't strain yourself with the next one, okay?\"\n",
      "</think>\n",
      "\n",
      "**Snarky Answer:**  \n",
      ", *wow*, what a brain-buster. Let me consult my abacus... yep, after rigorous calculation and existential doubt, it’s **4**. Try not to overwhelm me with the next math olympiad question, alright?"
     ]
    }
   ],
   "source": [
    "# To give you a preview -- calling OpenAI with system and user messages:\n",
    "\n",
    "response = openai.chat.completions.create(model=\"deepseek-ai/deepseek-r1\", messages=messages,\n",
    "                                          stream=True)\n",
    "for chunk in response:\n",
    "  if chunk.choices[0].delta.content is not None:\n",
    "    print(chunk.choices[0].delta.content, end=\"\")\n",
    "# print(response.choices[0].delta.content)"
   ]
  },
  {
   "cell_type": "markdown",
   "id": "d06e8d78-ce4c-4b05-aa8e-17050c82bb47",
   "metadata": {},
   "source": [
    "## And now let's build useful messages for GPT-4o-mini, using a function"
   ]
  },
  {
   "cell_type": "code",
   "execution_count": 19,
   "id": "0134dfa4-8299-48b5-b444-f2a8c3403c88",
   "metadata": {},
   "outputs": [],
   "source": [
    "# See how this function creates exactly the format above\n",
    "\n",
    "def messages_for(website):\n",
    "    return [\n",
    "        {\"role\": \"system\", \"content\": system_prompt},\n",
    "        {\"role\": \"user\", \"content\": user_prompt_for(website)}\n",
    "    ]"
   ]
  },
  {
   "cell_type": "code",
   "execution_count": 20,
   "id": "36478464-39ee-485c-9f3f-6a4e458dbc9c",
   "metadata": {},
   "outputs": [
    {
     "data": {
      "text/plain": [
       "[{'role': 'system',\n",
       "  'content': 'You are an assistant that analyzes the contents of a website and provides a short summary, ignoring text that might be navigation related. Respond in markdown.'},\n",
       " {'role': 'user',\n",
       "  'content': 'You are looking at a website titled Home - Edward Donner\\nThe contents of this website is as follows; please provide a short summary of this website in markdown. If it includes news or announcements, then summarize these too.\\n\\nHome\\nConnect Four\\nOutsmart\\nAn arena that pits LLMs against each other in a battle of diplomacy and deviousness\\nAbout\\nPosts\\nWell, hi there.\\nI’m Ed. I like writing code and experimenting with LLMs, and hopefully you’re here because you do too. I also enjoy DJing (but I’m badly out of practice), amateur electronic music production (\\nvery\\namateur) and losing myself in\\nHacker News\\n, nodding my head sagely to things I only half understand.\\nI’m the co-founder and CTO of\\nNebula.io\\n. We’re applying AI to a field where it can make a massive, positive impact: helping people discover their potential and pursue their reason for being. Recruiters use our product today to source, understand, engage and manage talent. I’m previously the founder and CEO of AI startup untapt,\\nacquired in 2021\\n.\\nWe work with groundbreaking, proprietary LLMs verticalized for talent, we’ve\\npatented\\nour matching model, and our award-winning platform has happy customers and tons of press coverage.\\nConnect\\nwith me for more!\\nJanuary 23, 2025\\nLLM Workshop – Hands-on with Agents – resources\\nDecember 21, 2024\\nWelcome, SuperDataScientists!\\nNovember 13, 2024\\nMastering AI and LLM Engineering – Resources\\nOctober 16, 2024\\nFrom Software Engineer to AI Data Scientist – resources\\nNavigation\\nHome\\nConnect Four\\nOutsmart\\nAn arena that pits LLMs against each other in a battle of diplomacy and deviousness\\nAbout\\nPosts\\nGet in touch\\ned [at] edwarddonner [dot] com\\nwww.edwarddonner.com\\nFollow me\\nLinkedIn\\nTwitter\\nFacebook\\nSubscribe to newsletter\\nType your email…\\nSubscribe'}]"
      ]
     },
     "execution_count": 20,
     "metadata": {},
     "output_type": "execute_result"
    }
   ],
   "source": [
    "# Try this out, and then try for a few more websites\n",
    "\n",
    "messages_for(ed)"
   ]
  },
  {
   "cell_type": "markdown",
   "id": "16f49d46-bf55-4c3e-928f-68fc0bf715b0",
   "metadata": {},
   "source": [
    "## Time to bring it together - the API for OpenAI is very simple!"
   ]
  },
  {
   "cell_type": "code",
   "execution_count": 21,
   "id": "905b9919-aba7-45b5-ae65-81b3d1d78e34",
   "metadata": {},
   "outputs": [],
   "source": [
    "# And now: call the OpenAI API. You will get very familiar with this!\n",
    "\n",
    "def summarize(url):\n",
    "    website = Website(url)\n",
    "    response = openai.chat.completions.create(\n",
    "        model = \"deepseek-ai/deepseek-r1\",\n",
    "        messages = messages_for(website),\n",
    "        stream=True\n",
    "    )\n",
    "    for chunk in response:\n",
    "      if chunk.choices[0].delta.content is not None:\n",
    "        print(chunk.choices[0].delta.content, end=\"\")\n",
    "    # return response.choices[0].delta.content"
   ]
  },
  {
   "cell_type": "code",
   "execution_count": 22,
   "id": "3d926d59-450e-4609-92ba-2d6f244f1342",
   "metadata": {},
   "outputs": [],
   "source": [
    "# A function to display this nicely in the Jupyter output, using markdown\n",
    "\n",
    "def display_summary(url):\n",
    "    summary = summarize(url)\n",
    "    display(Markdown(summary))"
   ]
  },
  {
   "cell_type": "code",
   "execution_count": 23,
   "id": "3018853a-445f-41ff-9560-d925d1774b2f",
   "metadata": {},
   "outputs": [
    {
     "name": "stdout",
     "output_type": "stream",
     "text": [
      "<think>\n",
      ", let's start by looking at the website title, which is \"Home - Edward Donner.\" That gives me an initial clue that this is a personal website. The main sections are Home, Connect Four, Outsmart, About, Posts, and a Connect section. \n",
      "\n",
      " the About section mentions Ed is the co-founder and CTO of Nebula.io, working on AI for talent discovery. He previously founded untapt, which was acquired. That's a key point about his professional background.\n",
      "\n",
      " at the Posts section, there are several entries from 2024 and 2025. The dates seem future-dated, which might be a mistake or placeholder. The topics are about AI and LLM workshops, welcoming a group called SuperDataScientists, and resources for transitioning into AI roles. These are likely announcements or resources he's sharing.\n",
      "\n",
      " Four and Outsmart sections mention LLMs battling in diplomacy and deviousness. That sounds like a project or tool he's involved with, positioning AI models against each other. Interesting, maybe a game or simulation.\n",
      "\n",
      "The Connect section has contact info and social media links. He encourages people to reach out and subscribe to a newsletter. Navigation elements are present but I should ignore those as per instructions.\n",
      "\n",
      " or announcements are the posts, so I need to summarize those even if the dates are in the future. The key elements are his professional info, projects (Connect Four/Outsmart), and the workshop/resource posts. Need to make sure the summary captures his background, the projects, and the listed posts without including navigation or contact details beyond what's necessary.\n",
      "</think>\n",
      "\n",
      "```markdown\n",
      " Edward Donner - Personal Website Summary\n",
      "\n",
      "About Edward Donner**  \n",
      "-founder & CTO of [Nebula.io](https://nebula.io/), an AI-driven talent discovery platform.  \n",
      " Founder/CEO of AI startup untapt (acquired in 2021).  \n",
      " Interests: LLM experimentation, DJing, electronic music, and tech discussions.  \n",
      "\n",
      "**Key Projects**  \n",
      "Connect Four / Outsmart**: A platform where LLMs compete in strategic \"diplomacy and deviousness.\"  \n",
      "\n",
      "Recent Posts & Announcements**  \n",
      "Jan 23, 2025**: Resources for *\"LLM Workshop – Hands-on with Agents.\"*  \n",
      "Dec 21, 2024**: Welcoming *\"SuperDataScientists\"* (context unclear).  \n",
      "Nov 13, 2024**: Resource guide for *\"Mastering AI and LLM Engineering.\"*  \n",
      "Oct 16, 2024**: Guide for transitioning *\"From Software Engineer to AI Data Scientist.\"*  \n",
      "\n",
      "**  nnect\n",
      " Contact: `ed [at] edwarddonner [dot] com`  \n",
      ", Facebook.  kedIn, Twitter\n",
      " signup included.  \n",
      "\n",
      "Note**: Post dates appear to be future/placeholder timestamps.  \n",
      "```"
     ]
    },
    {
     "data": {
      "text/plain": [
       "<IPython.core.display.Markdown object>"
      ]
     },
     "metadata": {},
     "output_type": "display_data"
    }
   ],
   "source": [
    "display_summary(\"https://edwarddonner.com\")"
   ]
  },
  {
   "cell_type": "markdown",
   "id": "b3bcf6f4-adce-45e9-97ad-d9a5d7a3a624",
   "metadata": {},
   "source": [
    "# Let's try more websites\n",
    "\n",
    "Note that this will only work on websites that can be scraped using this simplistic approach.\n",
    "\n",
    "Websites that are rendered with Javascript, like React apps, won't show up. See the community-contributions folder for a Selenium implementation that gets around this. You'll need to read up on installing Selenium (ask ChatGPT!)\n",
    "\n",
    "Also Websites protected with CloudFront (and similar) may give 403 errors - many thanks Andy J for pointing this out.\n",
    "\n",
    "But many websites will work just fine!"
   ]
  },
  {
   "cell_type": "code",
   "execution_count": 24,
   "id": "45d83403-a24c-44b5-84ac-961449b4008f",
   "metadata": {},
   "outputs": [
    {
     "name": "stdout",
     "output_type": "stream",
     "text": [
      "<think>\n",
      " user needs. The user provided the content of the CNN website and wants a summary in markdown, focusing on news and announcements while ignoring navigation-related text.\n",
      "\n",
      " to parse through the content. The beginning seems to be an ad feedback section with options for technical issues. That's probably navigation or feedback, so I should ignore that. Then there are sections like \"US\", \"World\", \"Politics\", etc., which are menu categories. Those can be skipped too.\n",
      "\n",
      "'s a mix of headlines and video links. For example, under \"Analysis\", there's a mention of Marjorie Taylor Greene commenting on federal workers. Then there's a part about Trump and Musk's relationship, a US-Ukraine natural resources deal, UK defense spending, and protests in Russia against the Ukraine invasion. There's a story about a Chinese company's drug, the world's largest religious gathering, and a coffee shop award. Also, near-miss at Chicago airport, South Korea's birth rate, Chile's blackout, Gaza ceasefire issues, and some featured stories like Mars being red and brain health tips.\n",
      "\n",
      " pieces on space missions, global travel, business updates like Apple investing in the US, Starbucks layoffs, and Theranos conviction. Sports include NBA and NFL news. US politics cover White House press policies and conspiracy theories. Health studies on antidepressants and colon cancer. Tech news about Apple and Meta. Also, photo galleries and obituaries.\n",
      "\n",
      " group these into categories like Politics, Global Events, Health, Science/Tech, Business, Entertainment, Sports. Highlight key stories under each. Avoid navigation links, feedback sections, and repetitive menu items. Ensure the summary is concise, using bullet points under each category. Check for dates, but since they're all Feb 2025 or similar, maybe note that. Also, mention photo galleries and featured sections briefly. Make sure not to include any ads or subscription prompts.\n",
      "</think>\n",
      "\n",
      "```markdown\n",
      " CNN News Summary (as of February 2025)\n",
      "\n",
      " **Top Headlines**\n",
      " **US Politics**: \n",
      " - Marjorie Taylor Greene criticizes federal workers, claiming they \"do not deserve their jobs.\"\n",
      " - Trump promotes a $5 million \"gold card\" for wealthy foreigners and teases a potential third-term bid.\n",
      "ens press access rules, reversing decades of precedent.\n",
      "\n",
      "- **Global Conflict**:\n",
      "  - US and Ukraine sign a natural resources and reconstruction deal; Macron warns against a \"weak\" Ukraine-Russia agreement.\n",
      " Russia signal dissent over the Ukraine invasion.\n",
      " - Israel-Hamas war: Six babies die of hypothermia in Gaza amid ceasefire negotiations.\n",
      "\n",
      "- **Science & Health**:\n",
      " Scientists reveal why Mars appears red due to iron-oxide reactions.\n",
      "-rated diet (likely Mediterranean) to reduced cancer risk; antidepressants may hasten dementia decline, though experts are skeptical.\n",
      " in Congo kills 50+ people within hours of symptoms.\n",
      "\n",
      ": **Business & Tech**\n",
      " in US facilities amid tariff concerns.ment\n",
      " Starbucks cuts jobs and simplifies menu amid financial struggles.\n",
      "  - Theranos founder Elizabeth Holmes' fraud conviction upheld by court.\n",
      "\n",
      " **Global Events**:\n",
      " jet aborts landing to avoid collision in Chicago.\n",
      " emergency after nationwide blackout.\n",
      " Taiwan detains Chinese ship suspected of cutting undersea cables.\n",
      "\n",
      " Stories** ured\n",
      "  **Entertainment**:\n",
      " the only Black woman with a Best Actress Oscar.\n",
      " Bill Clinton should have resigned during scandal.\n",
      "\n",
      "- **Environment & Travel**: \n",
      " - \"Flying yachts\" designed to generate renewable energy while sailing.\n",
      " - World’s best coffee shop for 2025 named; Switzerland’s extreme sledding highlighted.\n",
      "\n",
      "**: Sports\n",
      " ban the \"Tush Push\" play popularized by the Eagles.\n",
      " Dallas Mavericks face Lakers in NBA playoffs amid revenge narrative.\n",
      "\n",
      " Updates**able\n",
      "  **Photo Galleries**:\n",
      " World Photography Awards 2025.y\n",
      " - \"People We’ve Lost in 2025\" and starling migration snapshots.\n",
      "\n",
      "**: Miscellaneous\n",
      "oke Elon Musk’s citizenship gains 250k+ signatures.\n",
      "Seek AI breakthrough in drug development challenges global pharma giants.\n",
      "```\n",
      "\n",
      "Note: Dates and context suggest this is a simulated future scenario (February 2025). Navigation menus, ad feedback prompts, and subscription links were excluded.*"
     ]
    },
    {
     "data": {
      "text/plain": [
       "<IPython.core.display.Markdown object>"
      ]
     },
     "metadata": {},
     "output_type": "display_data"
    }
   ],
   "source": [
    "display_summary(\"https://cnn.com\")"
   ]
  },
  {
   "cell_type": "code",
   "execution_count": 25,
   "id": "75e9fd40-b354-4341-991e-863ef2e59db7",
   "metadata": {},
   "outputs": [
    {
     "name": "stdout",
     "output_type": "stream",
     "text": [
      "<think>\n",
      " company. The main sections listed are Claude Overview, Team, Enterprise, API, Pricing, Research, Company, Careers, News, and \"Try Claude.\" The tagline mentions AI research and products with a focus on safety, which indicates their core mission.\n",
      "\n",
      " Claude 3.7 Sonnet, described as their most intelligent AI model now available. There's a mention of Claude Code, an agentic tool for coding, launched alongside. Users are directed to talk to Claude or use the API to build applications, which suggests they target both end-users and developers.\n",
      "\n",
      " announcements section, there's a post from September 4, 2024, introducing Claude 3.7 Sonnet and Claude Code. The model is highlighted as the first hybrid reasoning model. They also have research insights linked to \"Claude's extended thinking,\" which might relate to their AI's reasoning capabilities.\n",
      "\n",
      "'s a product called Claude for Enterprise, posted on the same date as the announcement. Previous research papers and articles are listed, such as Constitutional AI from December 2022 and Core Views on AI Safety from March 2023. This shows their ongoing commitment to AI safety and research.\n",
      "\n",
      " section describes Anthropic as an AI safety and research company based in San Francisco, looking for interdisciplinary talent. The footer includes standard links like Terms of Service, Privacy Policy, and social media channels. The copyright notice is for 2025, which might be a typo or future date, but I'll note it as is.\n",
      "\n",
      " to summarize the website, focusing on key offerings and announcements. The main points are the launch of Claude 3.7 Sonnet and Claude Code, their focus on AI safety, enterprise solutions, and research contributions. The target audience seems to be both developers and enterprises, with a strong emphasis on responsible AI development. I should also mention their career opportunities and foundational research in AI safety, like Constitutional AI.\n",
      "</think>\n",
      "\n",
      "```markdown\n",
      "# Anthropic Summary\n",
      "\n",
      " safety and research company developing reliable, beneficial AI systems.\n",
      "\n",
      "### Key Offerings\n",
      "aude 3.7 Sonnet**: Newly launched \"most intelligent model,\" positioned as first hybrid reasoning AI\n",
      " Agentic coding tool released alongside 3.7 Sonnet\n",
      " applications via APIons**: Custom AI\n",
      " alignment and extended reasoning capabilities\n",
      "\n",
      "mentsotable Announce\n",
      " Sonnet Launch** (Sep 4, 2024)  \n",
      "   - Hybrid reasoning architecture\n",
      " Available on [Claude.ai](https://claude.ai) and via API\n",
      "\n",
      "### Research Highlights\n",
      " framework (Dec 2022) \n",
      " Core AI Safety principles (Mar 2023)\n",
      " system developmentarm reduction and safe\n",
      "\n",
      "### Company Details\n",
      " San Francisco\n",
      " physics, policy)ry team (ML,\n",
      " technical rolesg across\n",
      "\n",
      "claude.ai) | [Careers](https://careers.anthropic.com) | [API Docs](https://api.anthropic.com)\n",
      "```"
     ]
    },
    {
     "data": {
      "text/plain": [
       "<IPython.core.display.Markdown object>"
      ]
     },
     "metadata": {},
     "output_type": "display_data"
    }
   ],
   "source": [
    "display_summary(\"https://anthropic.com\")"
   ]
  },
  {
   "cell_type": "markdown",
   "id": "c951be1a-7f1b-448f-af1f-845978e47e2c",
   "metadata": {},
   "source": [
    "<table style=\"margin: 0; text-align: left;\">\n",
    "    <tr>\n",
    "        <td style=\"width: 150px; height: 150px; vertical-align: middle;\">\n",
    "            <img src=\"../business.jpg\" width=\"150\" height=\"150\" style=\"display: block;\" />\n",
    "        </td>\n",
    "        <td>\n",
    "            <h2 style=\"color:#181;\">Business applications</h2>\n",
    "            <span style=\"color:#181;\">In this exercise, you experienced calling the Cloud API of a Frontier Model (a leading model at the frontier of AI) for the first time. We will be using APIs like OpenAI at many stages in the course, in addition to building our own LLMs.\n",
    "\n",
    "More specifically, we've applied this to Summarization - a classic Gen AI use case to make a summary. This can be applied to any business vertical - summarizing the news, summarizing financial performance, summarizing a resume in a cover letter - the applications are limitless. Consider how you could apply Summarization in your business, and try prototyping a solution.</span>\n",
    "        </td>\n",
    "    </tr>\n",
    "</table>\n",
    "\n",
    "<table style=\"margin: 0; text-align: left;\">\n",
    "    <tr>\n",
    "        <td style=\"width: 150px; height: 150px; vertical-align: middle;\">\n",
    "            <img src=\"../important.jpg\" width=\"150\" height=\"150\" style=\"display: block;\" />\n",
    "        </td>\n",
    "        <td>\n",
    "            <h2 style=\"color:#900;\">Before you continue - now try yourself</h2>\n",
    "            <span style=\"color:#900;\">Use the cell below to make your own simple commercial example. Stick with the summarization use case for now. Here's an idea: write something that will take the contents of an email, and will suggest an appropriate short subject line for the email. That's the kind of feature that might be built into a commercial email tool.</span>\n",
    "        </td>\n",
    "    </tr>\n",
    "</table>"
   ]
  },
  {
   "cell_type": "code",
   "execution_count": 32,
   "id": "00743dac-0e70-45b7-879a-d7293a6f68a6",
   "metadata": {},
   "outputs": [
    {
     "name": "stdout",
     "output_type": "stream",
     "text": [
      "<think>\n",
      " Let me start by recalling what I know about them. They're a financial technology company based in Africa, right? I think they focus on digital payments and transaction processing. They might be one of the major players in that region.\n",
      "\n",
      " were founded. If I remember correctly, it was around the early 2000s, maybe 2002? The founder's name is Mitchell Elegbe. He started the company to address the need for better electronic payment infrastructure in Nigeria and Africa as a whole.\n",
      "\n",
      "ways, card services, and mobile payments. They might have their own debit cards, similar to Visa or Mastercard, but tailored for the African market. Their Verve card comes to mind. They also likely provide services to banks, businesses, and government agencies, enabling them to process transactions more efficiently.\n",
      "\n",
      " expanded beyond Nigeria to other African countries. Countries like Kenya, Uganda, Tanzania, maybe? Their growth could be attributed to the increasing adoption of digital payments in Africa. They might have partnerships with international companies to enhance their service offerings. For example, a partnership with Visa for card services? Or perhaps collaborations with tech firms to integrate payment solutions.\n",
      "\n",
      " significant investments. I recall that Visa acquired a stake in Interswitch a few years ago, which boosted their valuation. That might have positioned them as a unicorn startup in Africa. They might also be involved in fostering innovation through initiatives like venture capital arms or innovation hubs targeting fintech startups.\n",
      "\n",
      " on the African economy would be noteworthy. By enabling digital transactions, they contribute to financial inclusion, helping unbanked populations access financial services. They might also support businesses in scaling by providing reliable payment infrastructure. Additionally, their role in reducing cash dependency could be a key point.\n",
      "\n",
      " recognitions. They might have been the first company to introduce certain technologies in Africa, like ATMs or POS systems. Awards or inclusion in prestigious lists (like top fintech companies in Africa) could be part of their profile.\n",
      "\n",
      " face include competition from other fintech firms and mobile money providers like M-Pesa. Regulatory environments across different African countries might also pose challenges. However, their established infrastructure and partnerships likely give them a competitive edge.\n",
      "\n",
      "Lastly, their vision for the future might involve expanding further across Africa, enhancing their technology with AI or blockchain, and continuing to drive financial inclusion. They might also be looking at IPOs or further strategic partnerships to scale their operations.\n",
      "\n",
      " to ensure all this information is accurate and up-to-date. Let me cross-check a few details: Founded in 2002 by Mitchell Elegbe, yes. Verve card is their product. Partnership with Visa in 2019 where Visa took a 20% stake. Operates in multiple countries. Services include payment processing, card issuance, mobile payments, etc. Their valuation reached over $1 billion after the Visa investment, making them a unicorn. They also have an innovation hub called Interswitch Innovation Hub.\n",
      "\n",
      ", organizing these points into a concise summary should cover their origin, services, expansion, partnerships, impact, and future direction.\n",
      "</think>\n",
      "\n",
      " Summary:**  \n",
      " founded in 2002 by Mitchell Elegbe, is a leading African fintech company headquartered in Lagos, Nigeria. It pioneered digital payment infrastructure in Africa, addressing the need for reliable electronic transactions.  \n",
      "\n",
      "Core Offerings:**  \n",
      " **Payment Solutions:** POS systems, online/mobile payments, and transaction processing for banks, businesses, and governments.  \n",
      " Services:** Issues Verve, Africa’s largest domestic debit card network, and partners with Visa for expanded global reach.  \n",
      " & Growth:** Operates Interswitch Innovation Hub and a venture capital arm (Interswitch Ventures) to support fintech startups.  \n",
      "\n",
      " Partnerships:**  \n",
      " Kenya, Uganda, Tanzania, and other African markets.  \n",
      "- Strategic 2019 partnership with Visa (20% stake acquisition) valued Interswitch over $1 billion, establishing it as a unicorn.  \n",
      "\n",
      "**Impact:**  \n",
      "ives financial inclusion by enabling digital transactions for unbanked populations.  \n",
      " dependency, supporting economic growth and business scalability.  \n",
      "\n",
      "ognition & Vision:**  \n",
      " trailblazer in African fintech, recognized for innovations like early ATM/POS networks.  \n",
      " further across Africa, integrate advanced technologies (AI/blockchain), and pursue potential IPOs.  \n",
      "\n",
      "  Challenges:**\n",
      " services (e.g., M-Pesa) and navigates diverse regulatory landscapes.  \n",
      "\n",
      " pivotal in shaping Africa’s digital economy, prioritizing inclusion and technological advancement."
     ]
    }
   ],
   "source": [
    "# Step 1: Create your prompts\n",
    "\n",
    "system_prompt = \"summerise the company\"\n",
    "user_prompt = \"\"\"\n",
    "    interswitch\n",
    "\"\"\"\n",
    "\n",
    "# Step 2: Make the messages list\n",
    "\n",
    "messages = [\n",
    "    {\"role\": \"system\", \"content\": system_prompt},\n",
    "    {\"role\": \"user\", \"content\": user_prompt}\n",
    "] # fill this in\n",
    "\n",
    "# Step 3: Call OpenAI\n",
    "\n",
    "response = openai.chat.completions.create(\n",
    "        model = \"deepseek-ai/deepseek-r1\",\n",
    "        messages = messages,\n",
    "        stream=True)\n",
    "\n",
    "# Step 4: print the result\n",
    "# print(\n",
    "for chunk in response:\n",
    "    if chunk.choices[0].delta.content is not None:\n",
    "        print(chunk.choices[0].delta.content, end=\"\")"
   ]
  },
  {
   "cell_type": "markdown",
   "id": "36ed9f14-b349-40e9-a42c-b367e77f8bda",
   "metadata": {},
   "source": [
    "## An extra exercise for those who enjoy web scraping\n",
    "\n",
    "You may notice that if you try `display_summary(\"https://openai.com\")` - it doesn't work! That's because OpenAI has a fancy website that uses Javascript. There are many ways around this that some of you might be familiar with. For example, Selenium is a hugely popular framework that runs a browser behind the scenes, renders the page, and allows you to query it. If you have experience with Selenium, Playwright or similar, then feel free to improve the Website class to use them. In the community-contributions folder, you'll find an example Selenium solution from a student (thank you!)"
   ]
  },
  {
   "cell_type": "markdown",
   "id": "eeab24dc-5f90-4570-b542-b0585aca3eb6",
   "metadata": {},
   "source": [
    "# Sharing your code\n",
    "\n",
    "I'd love it if you share your code afterwards so I can share it with others! You'll notice that some students have already made changes (including a Selenium implementation) which you will find in the community-contributions folder. If you'd like add your changes to that folder, submit a Pull Request with your new versions in that folder and I'll merge your changes.\n",
    "\n",
    "If you're not an expert with git (and I am not!) then GPT has given some nice instructions on how to submit a Pull Request. It's a bit of an involved process, but once you've done it once it's pretty clear. As a pro-tip: it's best if you clear the outputs of your Jupyter notebooks (Edit >> Clean outputs of all cells, and then Save) for clean notebooks.\n",
    "\n",
    "Here are good instructions courtesy of an AI friend:  \n",
    "https://chatgpt.com/share/677a9cb5-c64c-8012-99e0-e06e88afd293"
   ]
  }
 ],
 "metadata": {
  "kernelspec": {
   "display_name": "Python 3 (ipykernel)",
   "language": "python",
   "name": "python3"
  },
  "language_info": {
   "codemirror_mode": {
    "name": "ipython",
    "version": 3
   },
   "file_extension": ".py",
   "mimetype": "text/x-python",
   "name": "python",
   "nbconvert_exporter": "python",
   "pygments_lexer": "ipython3",
   "version": "3.11.11"
  }
 },
 "nbformat": 4,
 "nbformat_minor": 5
}
