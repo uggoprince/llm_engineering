{
 "cells": [
  {
   "cell_type": "markdown",
   "id": "d15d8294-3328-4e07-ad16-8a03e9bbfdb9",
   "metadata": {},
   "source": [
    "# Welcome to your first assignment!\n",
    "\n",
    "Instructions are below. Please give this a try, and look in the solutions folder if you get stuck (or feel free to ask me!)"
   ]
  },
  {
   "cell_type": "markdown",
   "id": "ada885d9-4d42-4d9b-97f0-74fbbbfe93a9",
   "metadata": {},
   "source": [
    "<table style=\"margin: 0; text-align: left;\">\n",
    "    <tr>\n",
    "        <td style=\"width: 150px; height: 150px; vertical-align: middle;\">\n",
    "            <img src=\"../resources.jpg\" width=\"150\" height=\"150\" style=\"display: block;\" />\n",
    "        </td>\n",
    "        <td>\n",
    "            <h2 style=\"color:#f71;\">Just before we get to the assignment --</h2>\n",
    "            <span style=\"color:#f71;\">I thought I'd take a second to point you at this page of useful resources for the course. This includes links to all the slides.<br/>\n",
    "            <a href=\"https://edwarddonner.com/2024/11/13/llm-engineering-resources/\">https://edwarddonner.com/2024/11/13/llm-engineering-resources/</a><br/>\n",
    "            Please keep this bookmarked, and I'll continue to add more useful links there over time.\n",
    "            </span>\n",
    "        </td>\n",
    "    </tr>\n",
    "</table>"
   ]
  },
  {
   "cell_type": "markdown",
   "id": "6e9fa1fc-eac5-4d1d-9be4-541b3f2b3458",
   "metadata": {},
   "source": [
    "# HOMEWORK EXERCISE ASSIGNMENT\n",
    "\n",
    "Upgrade the day 1 project to summarize a webpage to use an Open Source model running locally via Ollama rather than OpenAI\n",
    "\n",
    "You'll be able to use this technique for all subsequent projects if you'd prefer not to use paid APIs.\n",
    "\n",
    "**Benefits:**\n",
    "1. No API charges - open-source\n",
    "2. Data doesn't leave your box\n",
    "\n",
    "**Disadvantages:**\n",
    "1. Significantly less power than Frontier Model\n",
    "\n",
    "## Recap on installation of Ollama\n",
    "\n",
    "Simply visit [ollama.com](https://ollama.com) and install!\n",
    "\n",
    "Once complete, the ollama server should already be running locally.  \n",
    "If you visit:  \n",
    "[http://localhost:11434/](http://localhost:11434/)\n",
    "\n",
    "You should see the message `Ollama is running`.  \n",
    "\n",
    "If not, bring up a new Terminal (Mac) or Powershell (Windows) and enter `ollama serve`  \n",
    "And in another Terminal (Mac) or Powershell (Windows), enter `ollama pull llama3.2`  \n",
    "Then try [http://localhost:11434/](http://localhost:11434/) again.\n",
    "\n",
    "If Ollama is slow on your machine, try using `llama3.2:1b` as an alternative. Run `ollama pull llama3.2:1b` from a Terminal or Powershell, and change the code below from `MODEL = \"llama3.2\"` to `MODEL = \"llama3.2:1b\"`"
   ]
  },
  {
   "cell_type": "code",
   "execution_count": 16,
   "id": "4e2a9393-7767-488e-a8bf-27c12dca35bd",
   "metadata": {},
   "outputs": [],
   "source": [
    "# imports\n",
    "\n",
    "import requests\n",
    "from bs4 import BeautifulSoup\n",
    "from IPython.display import Markdown, display"
   ]
  },
  {
   "cell_type": "code",
   "execution_count": 17,
   "id": "29ddd15d-a3c5-4f4e-a678-873f56162724",
   "metadata": {},
   "outputs": [],
   "source": [
    "# Constants\n",
    "\n",
    "OLLAMA_API = \"http://localhost:11434/api/chat\"\n",
    "HEADERS = {\"Content-Type\": \"application/json\"}\n",
    "MODEL = \"llama3.2\""
   ]
  },
  {
   "cell_type": "code",
   "execution_count": 18,
   "id": "dac0a679-599c-441f-9bf2-ddc73d35b940",
   "metadata": {},
   "outputs": [],
   "source": [
    "# Create a messages list using the same format that we used for OpenAI\n",
    "\n",
    "messages = [\n",
    "    {\"role\": \"user\", \"content\": \"Describe some of the business applications of Generative AI\"}\n",
    "]"
   ]
  },
  {
   "cell_type": "code",
   "execution_count": 23,
   "id": "7bb9c624-14f0-4945-a719-8ddb64f66f47",
   "metadata": {},
   "outputs": [],
   "source": [
    "payload = {\n",
    "        \"model\": MODEL,\n",
    "        \"messages\": messages,\n",
    "        \"stream\": False\n",
    "    }"
   ]
  },
  {
   "cell_type": "code",
   "execution_count": 7,
   "id": "479ff514-e8bd-4985-a572-2ea28bb4fa40",
   "metadata": {},
   "outputs": [
    {
     "name": "stdout",
     "output_type": "stream",
     "text": [
      "\u001b[?25lpulling manifest ⠋ \u001b[?25h\u001b[?25l\u001b[2K\u001b[1Gpulling manifest ⠙ \u001b[?25h\u001b[?25l\u001b[2K\u001b[1Gpulling manifest ⠹ \u001b[?25h\u001b[?25l\u001b[2K\u001b[1Gpulling manifest ⠸ \u001b[?25h\u001b[?25l\u001b[2K\u001b[1Gpulling manifest ⠼ \u001b[?25h\u001b[?25l\u001b[2K\u001b[1Gpulling manifest ⠴ \u001b[?25h\u001b[?25l\u001b[2K\u001b[1Gpulling manifest ⠦ \u001b[?25h\u001b[?25l\u001b[2K\u001b[1Gpulling manifest ⠧ \u001b[?25h\u001b[?25l\u001b[2K\u001b[1Gpulling manifest ⠇ \u001b[?25h\u001b[?25l\u001b[2K\u001b[1Gpulling manifest ⠏ \u001b[?25h\u001b[?25l\u001b[2K\u001b[1Gpulling manifest ⠋ \u001b[?25h\u001b[?25l\u001b[2K\u001b[1Gpulling manifest ⠙ \u001b[?25h\u001b[?25l\u001b[2K\u001b[1Gpulling manifest ⠹ \u001b[?25h\u001b[?25l\u001b[2K\u001b[1Gpulling manifest ⠸ \u001b[?25h\u001b[?25l\u001b[2K\u001b[1Gpulling manifest ⠼ \u001b[?25h\u001b[?25l\u001b[2K\u001b[1Gpulling manifest ⠴ \u001b[?25h\u001b[?25l\u001b[2K\u001b[1Gpulling manifest ⠦ \u001b[?25h\u001b[?25l\u001b[2K\u001b[1Gpulling manifest ⠧ \u001b[?25h\u001b[?25l\u001b[2K\u001b[1Gpulling manifest ⠇ \u001b[?25h\u001b[?25l\u001b[2K\u001b[1Gpulling manifest ⠏ \u001b[?25h\u001b[?25l\u001b[2K\u001b[1Gpulling manifest ⠋ \u001b[?25h\u001b[?25l\u001b[2K\u001b[1Gpulling manifest ⠙ \u001b[?25h\u001b[?25l\u001b[2K\u001b[1Gpulling manifest ⠹ \u001b[?25h\u001b[?25l\u001b[2K\u001b[1Gpulling manifest ⠸ \u001b[?25h\u001b[?25l\u001b[2K\u001b[1Gpulling manifest ⠼ \u001b[?25h\u001b[?25l\u001b[2K\u001b[1Gpulling manifest ⠴ \u001b[?25h\u001b[?25l\u001b[2K\u001b[1Gpulling manifest \n",
      "pulling dde5aa3fc5ff... 100% ▕████████████████▏ 2.0 GB                         \n",
      "pulling 966de95ca8a6... 100% ▕████████████████▏ 1.4 KB                         \n",
      "pulling fcc5a6bec9da... 100% ▕████████████████▏ 7.7 KB                         \n",
      "pulling a70ff7e570d9... 100% ▕████████████████▏ 6.0 KB                         \n",
      "pulling 56bb8bd477a5... 100% ▕████████████████▏   96 B                         \n",
      "pulling 34bb5ab01051... 100% ▕████████████████▏  561 B                         \n",
      "verifying sha256 digest \n",
      "writing manifest \n",
      "success \u001b[?25h\n"
     ]
    }
   ],
   "source": [
    "# Let's just make sure the model is loaded\n",
    "\n",
    "!ollama pull llama3.2"
   ]
  },
  {
   "cell_type": "code",
   "execution_count": 24,
   "id": "42b9f644-522d-4e05-a691-56e7658c0ea9",
   "metadata": {},
   "outputs": [
    {
     "name": "stdout",
     "output_type": "stream",
     "text": [
      "Generative AI has numerous business applications across various industries, including:\n",
      "\n",
      "1. **Content Creation**: Generative AI can be used to generate high-quality content such as articles, social media posts, product descriptions, and even entire books.\n",
      "2. **Marketing Automation**: Generative AI can help automate marketing tasks such as email campaigns, ad copywriting, and lead generation.\n",
      "3. **Product Design**: Generative AI can assist in designing new products by generating 3D models, prototypes, and even complete product lines.\n",
      "4. **Data Analysis**: Generative AI can be used to analyze large datasets, identify patterns, and make predictions, helping businesses make data-driven decisions.\n",
      "5. **Customer Service Chatbots**: Generative AI-powered chatbots can provide personalized customer service, respond to customer inquiries, and help resolve issues.\n",
      "6. **Image and Video Generation**: Generative AI can generate high-quality images and videos for use in marketing campaigns, advertising, and social media.\n",
      "7. **Music and Audio Generation**: Generative AI can create original music and audio tracks for various applications such as video games, films, and commercials.\n",
      "8. **Language Translation**: Generative AI can be used to translate text and speech in real-time, helping businesses communicate with global customers.\n",
      "9. **Predictive Maintenance**: Generative AI can analyze sensor data from machines and predict when maintenance is required, reducing downtime and increasing efficiency.\n",
      "10. **Financial Analysis**: Generative AI can help analyze financial data, identify trends, and make predictions about future market movements.\n",
      "\n",
      "Some specific business use cases for generative AI include:\n",
      "\n",
      "* **Product design companies** using generative AI to create new product designs and prototypes\n",
      "* **Marketing agencies** using generative AI to automate content creation and marketing campaigns\n",
      "* **E-commerce companies** using generative AI to generate high-quality product descriptions and images\n",
      "* **Financial institutions** using generative AI to analyze financial data and make predictions about market movements\n",
      "* **Healthcare organizations** using generative AI to analyze medical data and identify new treatments\n",
      "\n",
      "These are just a few examples of the many business applications of generative AI. As the technology continues to evolve, we can expect to see even more innovative use cases emerge.\n"
     ]
    }
   ],
   "source": [
    "# If this doesn't work for any reason, try the 2 versions in the following cells\n",
    "# And double check the instructions in the 'Recap on installation of Ollama' at the top of this lab\n",
    "# And if none of that works - contact me!\n",
    "\n",
    "response = requests.post(OLLAMA_API, json=payload, headers=HEADERS)\n",
    "print(response.json()['message']['content'])"
   ]
  },
  {
   "cell_type": "markdown",
   "id": "6a021f13-d6a1-4b96-8e18-4eae49d876fe",
   "metadata": {},
   "source": [
    "# Introducing the ollama package\n",
    "\n",
    "And now we'll do the same thing, but using the elegant ollama python package instead of a direct HTTP call.\n",
    "\n",
    "Under the hood, it's making the same call as above to the ollama server running at localhost:11434"
   ]
  },
  {
   "cell_type": "code",
   "execution_count": 25,
   "id": "7745b9c4-57dc-4867-9180-61fa5db55eb8",
   "metadata": {},
   "outputs": [
    {
     "name": "stdout",
     "output_type": "stream",
     "text": [
      "Generative AI (Generative Artificial Intelligence) has numerous business applications across various industries, including:\n",
      "\n",
      "1. **Content Generation**: AI can generate high-quality content such as articles, social media posts, product descriptions, and more. This can save time and resources for businesses that need to produce a large volume of content.\n",
      "2. **Marketing and Advertising**: Generative AI can be used to create personalized marketing messages, product recommendations, and even entire ad campaigns.\n",
      "3. **Customer Service Chatbots**: AI-powered chatbots can use generative models to respond to customer inquiries and provide helpful solutions.\n",
      "4. **Product Design and Development**: Generative AI can assist in designing new products by generating 3D models, prototypes, and even entire product lines.\n",
      "5. **Supply Chain Optimization**: AI can analyze supply chain data and generate predictions on demand fluctuations, inventory levels, and shipping times to optimize logistics and reduce costs.\n",
      "6. **Financial Analysis and Forecasting**: Generative AI can analyze financial data and generate forecasts, identifying potential trends and opportunities for growth.\n",
      "7. **Cybersecurity Threat Detection**: AI-powered systems can use generative models to detect and respond to cyber threats in real-time.\n",
      "8. **Data Analytics**: Generative AI can help with data analysis by generating insights, patterns, and correlations that can inform business decisions.\n",
      "9. **Music and Audio Generation**: AI can generate music, sound effects, and other audio content for various applications such as video games, films, and advertisements.\n",
      "10. **Language Translation**: Generative AI can be used to improve language translation accuracy and efficiency by generating new translations and phrases.\n",
      "11. **Image and Video Editing**: AI-powered tools can use generative models to edit images and videos, removing unwanted objects or effects, and even creating entirely new visual content.\n",
      "12. **Predictive Maintenance**: Generative AI can analyze sensor data from machines and predict when maintenance is required, reducing downtime and increasing efficiency.\n",
      "\n",
      "Some of the key benefits of Generative AI in business include:\n",
      "\n",
      "* Increased efficiency and productivity\n",
      "* Improved accuracy and quality\n",
      "* Enhanced decision-making capabilities\n",
      "* Reduced costs and improved competitiveness\n",
      "* New revenue streams through creative content generation\n",
      "\n",
      "However, it's essential to note that Generative AI also raises concerns around data privacy, bias, and job displacement. As with any emerging technology, businesses must carefully consider these implications when implementing Generative AI solutions.\n"
     ]
    }
   ],
   "source": [
    "import ollama\n",
    "\n",
    "response = ollama.chat(model=MODEL, messages=messages)\n",
    "print(response['message']['content'])"
   ]
  },
  {
   "cell_type": "markdown",
   "id": "a4704e10-f5fb-4c15-a935-f046c06fb13d",
   "metadata": {},
   "source": [
    "## Alternative approach - using OpenAI python library to connect to Ollama"
   ]
  },
  {
   "cell_type": "code",
   "execution_count": 26,
   "id": "23057e00-b6fc-4678-93a9-6b31cb704bff",
   "metadata": {},
   "outputs": [
    {
     "name": "stdout",
     "output_type": "stream",
     "text": [
      "Generative AI has numerous business applications across various industries, including:\n",
      "\n",
      "1. **Content Generation**: Automate content creation, such as writing articles, generating social media posts, and creating product descriptions using AI-powered tools like WordLift or Content Blossom.\n",
      "2. **Product Design**: Use Generative AD (Artificial Design) to create designs for products, like furniture, electronics, and fashion items, reducing manual design time and increasing innovation.\n",
      "3. **Image and Video Generation**: Create realistic images and videos for advertising, marketing, and entertainment using AI-powered tools like Deepfake or Adobe Fresco.\n",
      "4. **Predictive Maintenance**: Utilize Generative AI to analyze sensor data and predict equipment maintenance needs, reducing downtime and improving efficiency in industries like manufacturing and transportation.\n",
      "5. **Cybersecurity Threat Simulation**: Run simulations of potential cyber threats using Generative AI to test security measures and improve defense strategies for organizations.\n",
      "6. **Customer Service Chatbots**: Develop chatbots that use Generative AI to provide personalized customer support, answering frequently asked questions, and routing complex queries to human representatives.\n",
      "7. **Marketing Personalization**: Use Generative AI to create tailored marketing campaigns based on individual customer data, preferences, and behavior.\n",
      "8. **Data Analysis and Visualization**: Automate data analysis using Generative AI tools like Tableau or Power BI, creating interactive dashboards and visualizations to help businesses make data-driven decisions.\n",
      "9. **Automated Translation**: Develop automated translation systems that use Generative AI to translate languages in real-time, enabling global communication and collaboration.\n",
      "10. **Game Development**: Utilize Generative AI to create procedurally generated game content, such as levels, characters, and terrain, increasing game replayability and reducing development time.\n",
      "11. **Supply Chain Optimization**: Use Generative AI to analyze supply chain data, predict demand fluctuations, and optimize inventory management, leading to improved efficiency and reduced costs.\n",
      "12. **Artificial Intelligence-powered Sales Tools**: Develop AI-powered sales tools that use Generative AI to analyze customer interactions, predict conversion rates, and provide personalized recommendations.\n",
      "\n",
      "These applications demonstrate the potential of Generative AI to transform business operations, improve efficiency, and enhance customer experiences across various industries.\n"
     ]
    }
   ],
   "source": [
    "# There's actually an alternative approach that some people might prefer\n",
    "# You can use the OpenAI client python library to call Ollama:\n",
    "\n",
    "from openai import OpenAI\n",
    "ollama_via_openai = OpenAI(base_url='http://localhost:11434/v1', api_key='ollama')\n",
    "\n",
    "response = ollama_via_openai.chat.completions.create(\n",
    "    model=MODEL,\n",
    "    messages=messages\n",
    ")\n",
    "\n",
    "print(response.choices[0].message.content)"
   ]
  },
  {
   "cell_type": "markdown",
   "id": "bc7d1de3-e2ac-46ff-a302-3b4ba38c4c90",
   "metadata": {},
   "source": [
    "## Also trying the amazing reasoning model DeepSeek\n",
    "\n",
    "Here we use the version of DeepSeek-reasoner that's been distilled to 1.5B.  \n",
    "This is actually a 1.5B variant of Qwen that has been fine-tuned using synethic data generated by Deepseek R1.\n",
    "\n",
    "Other sizes of DeepSeek are [here](https://ollama.com/library/deepseek-r1) all the way up to the full 671B parameter version, which would use up 404GB of your drive and is far too large for most!"
   ]
  },
  {
   "cell_type": "code",
   "execution_count": null,
   "id": "cf9eb44e-fe5b-47aa-b719-0bb63669ab3d",
   "metadata": {},
   "outputs": [],
   "source": [
    "!ollama pull deepseek-r1:1.5b"
   ]
  },
  {
   "cell_type": "code",
   "execution_count": null,
   "id": "1d3d554b-e00d-4c08-9300-45e073950a76",
   "metadata": {},
   "outputs": [],
   "source": [
    "# This may take a few minutes to run! You should then see a fascinating \"thinking\" trace inside <think> tags, followed by some decent definitions\n",
    "\n",
    "response = ollama_via_openai.chat.completions.create(\n",
    "    model=\"deepseek-r1:1.5b\",\n",
    "    messages=[{\"role\": \"user\", \"content\": \"Please give definitions of some core concepts behind LLMs: a neural network, attention and the transformer\"}]\n",
    ")\n",
    "\n",
    "print(response.choices[0].message.content)"
   ]
  },
  {
   "cell_type": "markdown",
   "id": "1622d9bb-5c68-4d4e-9ca4-b492c751f898",
   "metadata": {},
   "source": [
    "# NOW the exercise for you\n",
    "\n",
    "Take the code from day1 and incorporate it here, to build a website summarizer that uses Llama 3.2 running locally instead of OpenAI; use either of the above approaches."
   ]
  },
  {
   "cell_type": "code",
   "execution_count": 30,
   "id": "6de38216-6d1c-48c4-877b-86d403f4e0f8",
   "metadata": {},
   "outputs": [
    {
     "name": "stdout",
     "output_type": "stream",
     "text": [
      "Here's a comprehensive guide to JavaScript basics:\n",
      "\n",
      "**Variables and Data Types**\n",
      "\n",
      "In JavaScript, variables are used to store values. There are several data types in JavaScript:\n",
      "\n",
      "1. **Number**: A number is a whole or decimal value.\n",
      "\t* Example: `let num = 123;`\n",
      "2. **String**: A string is a sequence of characters.\n",
      "\t* Example: `let name = 'John Doe';`\n",
      "3. **Boolean**: A boolean is a true or false value.\n",
      "\t* Example: `let isAdmin = true;`\n",
      "4. **Symbol**: A symbol is a unique value that cannot be replicated.\n",
      "\t* Example: `const id = Symbol('unique');`\n",
      "5. **Null** and **Undefined**: These are used to indicate that a variable has not been assigned a value.\n",
      "\t* Example: `let nullValue = null;` or `let undefinedValue = undefined;`\n",
      "\n",
      "**Operators**\n",
      "\n",
      "JavaScript supports various operators:\n",
      "\n",
      "1. Arithmetic Operators:\n",
      "\t* `+`: Addition\n",
      "\t* `-`: Subtraction\n",
      "\t* `*`: Multiplication\n",
      "\t* `/`: Division\n",
      "\t* `%`: Modulus (remainder)\n",
      "2. Comparison Operators:\n",
      "\t* `==` or `===`: Equal to\n",
      "\t* `!=`, `!==`: Not equal to\n",
      "\t* `>`: Greater than\n",
      "\t* `<`: Less than\n",
      "3. Logical Operators:\n",
      "\t* `&&` and `&&=`: Logical AND\n",
      "\t* `||` and `||=`: Logical OR\n",
      "4. Assignment Operators:\n",
      "\t* `=`: Assignment\n",
      "\t* `+=`, `-=`, `*=`, `/=`: Increment or decrement\n",
      "\n",
      "**Control Structures**\n",
      "\n",
      "1. **If Statement**: Used to execute a block of code if a condition is true.\n",
      "\t* Example: `if (isAdmin) alert('You are an admin');`\n",
      "2. **For Loop**: Used to iterate over a sequence of values.\n",
      "\t* Example: `for (let i = 0; i < 5; i++) { console.log(i); }`\n",
      "3. **While Loop**: Used to execute a block of code while a condition is true.\n",
      "\t* Example: `let i = 0; while (i < 5) { console.log(i); i++; }`\n",
      "\n",
      "**Functions**\n",
      "\n",
      "1. **Defining Functions**: A function is a block of code that can be executed multiple times with different inputs.\n",
      "\t* Example: `function greet(name) { console.log(`Hello, ${name}!`); }`\n",
      "2. **Calling Functions**: You can call a function by using the function name followed by parentheses with the required arguments.\n",
      "\t* Example: `greet('John Doe');`\n",
      "\n",
      "**Arrays**\n",
      "\n",
      "Arrays are used to store values in a collection.\n",
      "\n",
      "1. **Creating Arrays**: You can create arrays by encasing values within square brackets `[]`.\n",
      "\t* Example: `[1, 2, 3]`\n",
      "2. **Accessing Array Elements**: You can access array elements using their index position.\n",
      "\t* Example: `let arr = [1, 2, 3]; console.log(arr[0]);`\n",
      "\n",
      "**Object-Oriented Programming (OOP) Concepts**\n",
      "\n",
      "JavaScript supports the basic OOP concepts:\n",
      "\n",
      "1. **Classes**: Classes are used to define a blueprint for an object.\n",
      "\t* Example: `class Car { constructor(name) { this.name = name; } }`\n",
      "2. **Inheritance**: Inheritance is not directly supported in JavaScript, but you can achieve similar behavior using prototypal inheritance or implementing interfaces.\n",
      "\n",
      "**DOM and Events**\n",
      "\n",
      "1. ** DOM (Document Object Model)**: The DOM represents the structure of a document, including HTML elements.\n",
      "\t* Example: `let paragraph = document.querySelectorAll('p');`\n",
      "2. **Events**: Events are triggered by user interactions (e.g., clicks, keyboard input).\n",
      "\n",
      "This is just a basic introduction to JavaScript. As you progress in your learning journey, you'll discover more about advanced concepts like modules, classes, and object-oriented programming.\n",
      "\n",
      "How would you like to proceed? Do you have any specific questions or topics you'd like me to cover next?\n"
     ]
    }
   ],
   "source": [
    "from openai import OpenAI\n",
    "\n",
    "ollama_via_openai = OpenAI(base_url='http://localhost:11434/v1', api_key='ollama')\n",
    "\n",
    "system_prompt = \"You are an assistant that helps with programming lessons\"\n",
    "\n",
    "messages = [\n",
    "    {\"role\": \"system\", \"content\" : system_prompt},\n",
    "    {\"role\" : \"user\", \"content\": \"give me javascript basics\"}\n",
    "]\n",
    "\n",
    "response = ollama_via_openai.chat.completions.create(\n",
    "    model=\"llama3.2\",\n",
    "    messages=messages\n",
    ")\n",
    "\n",
    "print(response.choices[0].message.content)"
   ]
  },
  {
   "cell_type": "code",
   "execution_count": null,
   "id": "c40a3be1-c7b4-4a73-955c-6c2c67a9d875",
   "metadata": {},
   "outputs": [],
   "source": []
  },
  {
   "cell_type": "code",
   "execution_count": null,
   "id": "0c48deb2-fe8c-41b7-8aa9-59b33a64a59f",
   "metadata": {},
   "outputs": [],
   "source": []
  }
 ],
 "metadata": {
  "kernelspec": {
   "display_name": "Python 3 (ipykernel)",
   "language": "python",
   "name": "python3"
  },
  "language_info": {
   "codemirror_mode": {
    "name": "ipython",
    "version": 3
   },
   "file_extension": ".py",
   "mimetype": "text/x-python",
   "name": "python",
   "nbconvert_exporter": "python",
   "pygments_lexer": "ipython3",
   "version": "3.11.11"
  }
 },
 "nbformat": 4,
 "nbformat_minor": 5
}
